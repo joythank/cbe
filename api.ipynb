{
 "cells": [
  {
   "cell_type": "code",
   "execution_count": null,
   "metadata": {},
   "outputs": [],
   "source": []
  },
  {
   "cell_type": "code",
   "execution_count": 1,
   "metadata": {},
   "outputs": [
    {
     "name": "stdout",
     "output_type": "stream",
     "text": [
      "Requirement already satisfied: requests in /home/codespace/.local/lib/python3.10/site-packages (2.31.0)\n",
      "Requirement already satisfied: charset-normalizer<4,>=2 in /home/codespace/.local/lib/python3.10/site-packages (from requests) (3.3.2)\n",
      "Requirement already satisfied: idna<4,>=2.5 in /home/codespace/.local/lib/python3.10/site-packages (from requests) (3.6)\n",
      "Requirement already satisfied: urllib3<3,>=1.21.1 in /usr/local/python/3.10.13/lib/python3.10/site-packages (from requests) (2.0.7)\n",
      "Requirement already satisfied: certifi>=2017.4.17 in /home/codespace/.local/lib/python3.10/site-packages (from requests) (2023.11.17)\n",
      "Note: you may need to restart the kernel to use updated packages.\n"
     ]
    }
   ],
   "source": [
    "#requests 라이브러리 임포트\n",
    "%pip install requests"
   ]
  },
  {
   "cell_type": "code",
   "execution_count": 9,
   "metadata": {},
   "outputs": [],
   "source": [
    "import requests #requests 라이브러리 임포트"
   ]
  },
  {
   "cell_type": "code",
   "execution_count": 10,
   "metadata": {},
   "outputs": [],
   "source": [
    "r = requests.get(\"https://edu.cbe.go.kr/\") #400대 요청 실수 500번대 서버 문제"
   ]
  },
  {
   "cell_type": "code",
   "execution_count": 12,
   "metadata": {},
   "outputs": [],
   "source": [
    "print(r.text, file=open(\"a.html\",\"w\"))"
   ]
  },
  {
   "cell_type": "code",
   "execution_count": 19,
   "metadata": {},
   "outputs": [
    {
     "data": {
      "text/plain": [
       "{'schoolInfo': [{'head': [{'list_total_count': 12551},\n",
       "    {'RESULT': {'CODE': 'INFO-000', 'MESSAGE': '정상 처리되었습니다.'}}]},\n",
       "  {'row': [{'ATPT_OFCDC_SC_CODE': 'B10',\n",
       "     'ATPT_OFCDC_SC_NM': '서울특별시교육청',\n",
       "     'SD_SCHUL_CODE': '7010057',\n",
       "     'SCHUL_NM': '가락고등학교',\n",
       "     'ENG_SCHUL_NM': 'Garak High School',\n",
       "     'SCHUL_KND_SC_NM': '고등학교',\n",
       "     'LCTN_SC_NM': '서울특별시',\n",
       "     'JU_ORG_NM': '서울특별시교육청',\n",
       "     'FOND_SC_NM': '공립',\n",
       "     'ORG_RDNZC': '05678 ',\n",
       "     'ORG_RDNMA': '서울특별시 송파구 송이로 42',\n",
       "     'ORG_RDNDA': '(송파동/가락고등학교)',\n",
       "     'ORG_TELNO': '02-416-4658',\n",
       "     'HMPG_ADRES': 'http://garak.sen.hs.kr',\n",
       "     'COEDU_SC_NM': '남여공학',\n",
       "     'ORG_FAXNO': '02-421-9669',\n",
       "     'HS_SC_NM': '일반고',\n",
       "     'INDST_SPECL_CCCCL_EXST_YN': 'N',\n",
       "     'HS_GNRL_BUSNS_SC_NM': '일반계',\n",
       "     'SPCLY_PURPS_HS_ORD_NM': None,\n",
       "     'ENE_BFE_SEHF_SC_NM': '후기',\n",
       "     'DGHT_SC_NM': '주간',\n",
       "     'FOND_YMD': '19881223',\n",
       "     'FOAS_MEMRD': '19890428',\n",
       "     'LOAD_DTM': '20230615'},\n",
       "    {'ATPT_OFCDC_SC_CODE': 'B10',\n",
       "     'ATPT_OFCDC_SC_NM': '서울특별시교육청',\n",
       "     'SD_SCHUL_CODE': '7130165',\n",
       "     'SCHUL_NM': '가락중학교',\n",
       "     'ENG_SCHUL_NM': 'Karak Middle School',\n",
       "     'SCHUL_KND_SC_NM': '중학교',\n",
       "     'LCTN_SC_NM': '서울특별시',\n",
       "     'JU_ORG_NM': '서울특별시강동송파교육지원청',\n",
       "     'FOND_SC_NM': '공립',\n",
       "     'ORG_RDNZC': '05673 ',\n",
       "     'ORG_RDNMA': '서울특별시 송파구 송이로 45',\n",
       "     'ORG_RDNDA': '(송파동/가락중학교)',\n",
       "     'ORG_TELNO': '02-2143-3102',\n",
       "     'HMPG_ADRES': 'http://www.karak.ms.kr',\n",
       "     'COEDU_SC_NM': '남여공학',\n",
       "     'ORG_FAXNO': '02-2143-3119',\n",
       "     'HS_SC_NM': '  ',\n",
       "     'INDST_SPECL_CCCCL_EXST_YN': 'N',\n",
       "     'HS_GNRL_BUSNS_SC_NM': '일반계',\n",
       "     'SPCLY_PURPS_HS_ORD_NM': None,\n",
       "     'ENE_BFE_SEHF_SC_NM': '전기',\n",
       "     'DGHT_SC_NM': '주간',\n",
       "     'FOND_YMD': '19860129',\n",
       "     'FOAS_MEMRD': '19860506',\n",
       "     'LOAD_DTM': '20230615'},\n",
       "    {'ATPT_OFCDC_SC_CODE': 'B10',\n",
       "     'ATPT_OFCDC_SC_NM': '서울특별시교육청',\n",
       "     'SD_SCHUL_CODE': '7041164',\n",
       "     'SCHUL_NM': '가산중학교',\n",
       "     'ENG_SCHUL_NM': 'Gasan Middle School',\n",
       "     'SCHUL_KND_SC_NM': '중학교',\n",
       "     'LCTN_SC_NM': '서울특별시',\n",
       "     'JU_ORG_NM': '서울특별시남부교육지원청',\n",
       "     'FOND_SC_NM': '공립',\n",
       "     'ORG_RDNZC': '08584 ',\n",
       "     'ORG_RDNMA': '서울특별시 금천구 시흥대로115길 48',\n",
       "     'ORG_RDNDA': '(독산동)',\n",
       "     'ORG_TELNO': '02-804-1777',\n",
       "     'HMPG_ADRES': 'http://www.gasan.ms.kr',\n",
       "     'COEDU_SC_NM': '남여공학',\n",
       "     'ORG_FAXNO': '02-892-8477',\n",
       "     'HS_SC_NM': '  ',\n",
       "     'INDST_SPECL_CCCCL_EXST_YN': 'N',\n",
       "     'HS_GNRL_BUSNS_SC_NM': '일반계',\n",
       "     'SPCLY_PURPS_HS_ORD_NM': None,\n",
       "     'ENE_BFE_SEHF_SC_NM': '전기',\n",
       "     'DGHT_SC_NM': '주간',\n",
       "     'FOND_YMD': '19700810',\n",
       "     'FOAS_MEMRD': '19710303',\n",
       "     'LOAD_DTM': '20230615'},\n",
       "    {'ATPT_OFCDC_SC_CODE': 'B10',\n",
       "     'ATPT_OFCDC_SC_NM': '서울특별시교육청',\n",
       "     'SD_SCHUL_CODE': '7130166',\n",
       "     'SCHUL_NM': '가원중학교',\n",
       "     'ENG_SCHUL_NM': 'Gawon Middle School',\n",
       "     'SCHUL_KND_SC_NM': '중학교',\n",
       "     'LCTN_SC_NM': '서울특별시',\n",
       "     'JU_ORG_NM': '서울특별시강동송파교육지원청',\n",
       "     'FOND_SC_NM': '공립',\n",
       "     'ORG_RDNZC': '05831 ',\n",
       "     'ORG_RDNMA': '서울특별시 송파구 중대로10길 40-18',\n",
       "     'ORG_RDNDA': '(가락동/가원중학교)',\n",
       "     'ORG_TELNO': '02-409-2179',\n",
       "     'HMPG_ADRES': 'www.gawon.ms.kr',\n",
       "     'COEDU_SC_NM': '남여공학',\n",
       "     'ORG_FAXNO': '02-443-5825',\n",
       "     'HS_SC_NM': '  ',\n",
       "     'INDST_SPECL_CCCCL_EXST_YN': 'N',\n",
       "     'HS_GNRL_BUSNS_SC_NM': '일반계',\n",
       "     'SPCLY_PURPS_HS_ORD_NM': None,\n",
       "     'ENE_BFE_SEHF_SC_NM': '전기',\n",
       "     'DGHT_SC_NM': '주간',\n",
       "     'FOND_YMD': '19881224',\n",
       "     'FOAS_MEMRD': '19881224',\n",
       "     'LOAD_DTM': '20230615'},\n",
       "    {'ATPT_OFCDC_SC_CODE': 'B10',\n",
       "     'ATPT_OFCDC_SC_NM': '서울특별시교육청',\n",
       "     'SD_SCHUL_CODE': '7011169',\n",
       "     'SCHUL_NM': '가재울고등학교',\n",
       "     'ENG_SCHUL_NM': 'Gajaeul High School',\n",
       "     'SCHUL_KND_SC_NM': '고등학교',\n",
       "     'LCTN_SC_NM': '서울특별시',\n",
       "     'JU_ORG_NM': '서울특별시교육청',\n",
       "     'FOND_SC_NM': '공립',\n",
       "     'ORG_RDNZC': '03709 ',\n",
       "     'ORG_RDNMA': '서울특별시 서대문구 수색로 100-35',\n",
       "     'ORG_RDNDA': '(북가좌동)',\n",
       "     'ORG_TELNO': '02-6351-0500',\n",
       "     'HMPG_ADRES': 'http://www.gajaeul.hs.kr',\n",
       "     'COEDU_SC_NM': '남여공학',\n",
       "     'ORG_FAXNO': '02-307-6605',\n",
       "     'HS_SC_NM': '일반고',\n",
       "     'INDST_SPECL_CCCCL_EXST_YN': 'N',\n",
       "     'HS_GNRL_BUSNS_SC_NM': '일반계',\n",
       "     'SPCLY_PURPS_HS_ORD_NM': None,\n",
       "     'ENE_BFE_SEHF_SC_NM': '후기',\n",
       "     'DGHT_SC_NM': '주간',\n",
       "     'FOND_YMD': '20130301',\n",
       "     'FOAS_MEMRD': '20130501',\n",
       "     'LOAD_DTM': '20230615'}]}]}"
      ]
     },
     "execution_count": 19,
     "metadata": {},
     "output_type": "execute_result"
    }
   ],
   "source": [
    "#학교정보 api url\n",
    "url = \"https://open.neis.go.kr/hub/schoolInfo\"\n",
    "params = {#파라미터 사전\n",
    "    \"Type\":\"json\",\n",
    "    \"SCHOOL_NM\":\"서전중\"\n",
    "    }\n",
    "r = requests.get(url,params=params) #get 요청\n",
    "r.json()"
   ]
  }
 ],
 "metadata": {
  "kernelspec": {
   "display_name": "Python 3",
   "language": "python",
   "name": "python3"
  },
  "language_info": {
   "codemirror_mode": {
    "name": "ipython",
    "version": 3
   },
   "file_extension": ".py",
   "mimetype": "text/x-python",
   "name": "python",
   "nbconvert_exporter": "python",
   "pygments_lexer": "ipython3",
   "version": "3.10.13"
  }
 },
 "nbformat": 4,
 "nbformat_minor": 2
}
